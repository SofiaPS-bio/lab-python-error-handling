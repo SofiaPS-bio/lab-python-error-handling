{
 "cells": [
  {
   "cell_type": "markdown",
   "id": "25d7736c-ba17-4aff-b6bb-66eba20fbf4e",
   "metadata": {},
   "source": [
    "# Lab | Error Handling"
   ]
  },
  {
   "cell_type": "markdown",
   "id": "bc99b386-7508-47a0-bcdb-d969deaf6c8b",
   "metadata": {},
   "source": [
    "## Exercise: Error Handling for Managing Customer Orders\n",
    "\n",
    "The implementation of your code for managing customer orders assumes that the user will always enter a valid input. \n",
    "\n",
    "For example, we could modify the `initialize_inventory` function to include error handling.\n",
    "   - If the user enters an invalid quantity (e.g., a negative value or a non-numeric value), display an error message and ask them to re-enter the quantity for that product.\n",
    "   - Use a try-except block to handle the error and continue prompting the user until a valid quantity is entered.\n",
    "\n",
    "```python\n",
    "# Step 1: Define the function for initializing the inventory with error handling\n",
    "def initialize_inventory(products):\n",
    "    inventory = {}\n",
    "    for product in products:\n",
    "        valid_quantity = False\n",
    "        while not valid_quantity:\n",
    "            try:\n",
    "                quantity = int(input(f\"Enter the quantity of {product}s available: \"))\n",
    "                if quantity < 0:\n",
    "                    raise ValueError(\"Invalid quantity! Please enter a non-negative value.\")\n",
    "                valid_quantity = True\n",
    "            except ValueError as error:\n",
    "                print(f\"Error: {error}\")\n",
    "        inventory[product] = quantity\n",
    "    return inventory\n",
    "\n",
    "# Or, in another way:\n",
    "\n",
    "def initialize_inventory(products):\n",
    "    inventory = {}\n",
    "    for product in products:\n",
    "        valid_input = False\n",
    "        while not valid_input:\n",
    "            try:\n",
    "                quantity = int(input(f\"Enter the quantity of {product}s available: \"))\n",
    "                if quantity >= 0:\n",
    "                    inventory[product] = quantity\n",
    "                    valid_input = True\n",
    "                else:\n",
    "                    print(\"Quantity cannot be negative. Please enter a valid quantity.\")\n",
    "            except ValueError:\n",
    "                print(\"Invalid input. Please enter a valid quantity.\")\n",
    "    return inventory\n",
    "```\n",
    "\n",
    "Let's enhance your code by implementing error handling to handle invalid inputs.\n",
    "\n",
    "Follow the steps below to complete the exercise:\n",
    "\n",
    "2. Modify the `calculate_total_price` function to include error handling.\n",
    "   - If the user enters an invalid price (e.g., a negative value or a non-numeric value), display an error message and ask them to re-enter the price for that product.\n",
    "   - Use a try-except block to handle the error and continue prompting the user until a valid price is entered.\n",
    "\n",
    "3. Modify the `get_customer_orders` function to include error handling.\n",
    "   - If the user enters an invalid number of orders (e.g., a negative value or a non-numeric value), display an error message and ask them to re-enter the number of orders.\n",
    "   - If the user enters an invalid product name (e.g., a product name that is not in the inventory), or that doesn't have stock available, display an error message and ask them to re-enter the product name. *Hint: you will need to pass inventory as a parameter*\n",
    "   - Use a try-except block to handle the error and continue prompting the user until a valid product name is entered.\n",
    "\n",
    "4. Test your code by running the program and deliberately entering invalid quantities and product names. Make sure the error handling mechanism works as expected.\n"
   ]
  },
  {
   "cell_type": "code",
   "execution_count": 3,
   "id": "1062f6d8",
   "metadata": {},
   "outputs": [
    {
     "name": "stdout",
     "output_type": "stream",
     "text": [
      "Error: invalid literal for int() with base 10: ''\n",
      "{'t-shirt': 1, 'mug': 2, 'hat': 3, 'book': 4, 'keychain': 5}\n"
     ]
    }
   ],
   "source": [
    "products = [\"t-shirt\", \"mug\", \"hat\", \"book\", \"keychain\"]\n",
    "\n",
    "def initialize_inventory(products):\n",
    "    \"\"\" Prompt the user to enter the inventory count for each product and store it in the inventory dictionary.\"\"\"\n",
    "    #inventory = {product: int(input(f\"Enter the quantity of {product}s available: \")) for product in products}\n",
    "    #return inventory\n",
    "    inventory = {}\n",
    "    for product in products:\n",
    "        valid_quantity = False\n",
    "        while not valid_quantity:\n",
    "            try:\n",
    "                quantity = int(input(f\"Enter the quantity of {product}s available: \"))\n",
    "                if quantity < 0:\n",
    "                    raise ValueError(\"Invalid quantity! Please enter a non-negative value.\")\n",
    "                valid_quantity = True\n",
    "            except ValueError as error:\n",
    "                print(f\"Error: {error}\")\n",
    "        inventory[product] = quantity\n",
    "    return inventory\n",
    "\n",
    "inventory = initialize_inventory(products)\n",
    "print(inventory)\n"
   ]
  },
  {
   "cell_type": "code",
   "execution_count": 4,
   "id": "50e90ed4",
   "metadata": {},
   "outputs": [
    {
     "name": "stdout",
     "output_type": "stream",
     "text": [
      "{'t-shirt': 1, 'mug': 2, 'hat': 3, 'book': 4, 'keychain': 5}\n"
     ]
    }
   ],
   "source": [
    "print(inventory)"
   ]
  },
  {
   "cell_type": "code",
   "execution_count": 15,
   "id": "e4cd10f0",
   "metadata": {},
   "outputs": [
    {
     "name": "stdout",
     "output_type": "stream",
     "text": [
      "Error: Invalid number! Please enter a non-negative value.\n",
      "Error: invalid literal for int() with base 10: 'm'\n",
      "Error: Product '2' is not available in the inventory.\n",
      "Error: invalid literal for int() with base 10: 'love'\n"
     ]
    }
   ],
   "source": [
    "def get_customer_orders(inventory):\n",
    "    #customer_orders = set() #to set up an empty set, could also be {}, but it gave me an error\n",
    "\n",
    "    try:\n",
    "        num_customer_order = int(input(\"Enter the number of custumer order: \"))\n",
    "        \n",
    "        if num_customer_order < 0:\n",
    "            raise ValueError(\"Invalid number! Please enter a non-negative value.\")\n",
    "        #return num_customer_order\n",
    "\n",
    "        customer_orders = set()\n",
    "        for _ in range(num_customer_order):\n",
    "            customer_orders_input = input(\"Enter the name of a product that a customer wants to order: \")\n",
    "            if customer_orders_input not in inventory.keys() or inventory[customer_orders_input] <= 0:\n",
    "                raise ValueError(f\"Product '{customer_orders_input}' is not available in the inventory.\")\n",
    "            customer_orders.add(customer_orders_input)\n",
    "        return customer_orders\n",
    "    \n",
    "    except ValueError as error:\n",
    "        print(f\"Error: {error}\")\n",
    "        return get_customer_orders(inventory) #recursion\n",
    "\n",
    "\n",
    "\n",
    "    #{customer_orders.add(input(\"Enter the name of a product that a customer wants to order: \")) for num in range(num_customer_order)}\n",
    "    #customer_orders = {input(\"Enter the name of a product that a customer wants to order: \") for num in range(num_customer_order)} #better this one\n",
    "    #return customer_orders\n",
    "\n",
    "customer_orders = get_customer_orders(inventory)\n",
    "\n",
    "#print(inventory)"
   ]
  },
  {
   "cell_type": "code",
   "execution_count": 6,
   "id": "b69f8bc9",
   "metadata": {},
   "outputs": [
    {
     "name": "stdout",
     "output_type": "stream",
     "text": [
      "{'hat', 'mug'}\n"
     ]
    }
   ],
   "source": [
    "print(customer_orders)"
   ]
  },
  {
   "cell_type": "code",
   "execution_count": 7,
   "id": "0ad6d474",
   "metadata": {},
   "outputs": [
    {
     "name": "stdout",
     "output_type": "stream",
     "text": [
      "{'t-shirt': 1, 'mug': 1, 'hat': 2, 'book': 4, 'keychain': 5}\n"
     ]
    }
   ],
   "source": [
    "def update_inventory(inventory, customer_orders):\n",
    "    for product in customer_orders:\n",
    "        if product in inventory and inventory[product] > 0:\n",
    "            inventory[product] -= 1\n",
    "\n",
    "    #inventory = {product: inventory[product] - 1 if product in customer_orders and inventory[product] > 0 else inventory[product] for product in inventory}\n",
    "\n",
    "    #inventory = {inventory.pop(item) for item in inventory if inventory[item] == 0} #why this doesn't work???\n",
    "    inventory = {product: quantity for product, quantity in inventory.items() if quantity > 0}\n",
    "    return inventory\n",
    "\n",
    "update_inventory(inventory, customer_orders)\n",
    "\n",
    "print (inventory)\n",
    "\n",
    "#or this:\n",
    "#inventory = [inventory[product] -= 1 for product in customer_orders if product in inventory and inventory[product] > 0]"
   ]
  },
  {
   "cell_type": "code",
   "execution_count": null,
   "id": "d63d7d22",
   "metadata": {},
   "outputs": [],
   "source": [
    "def total_price_order(customer_orders):\n",
    "    try:\n",
    "        price_in_order = {}\n",
    "        for order in customer_orders:\n",
    "            price = int(input(f\"Enter the price for {order}: \"))\n",
    "        \n",
    "            if price < 0:\n",
    "                raise ValueError(\"Invalid price! Please enter a non-negative value.\")\n",
    "            price_in_order[order] = price\n",
    "        total_price = sum(price_in_order.values())\n",
    "        return total_price\n",
    "    except ValueError as error:\n",
    "        print(f\"Error: {error}\")\n",
    "        return total_price_order(customer_orders) #recursion\n",
    "\n",
    "    "
   ]
  },
  {
   "cell_type": "code",
   "execution_count": 9,
   "id": "6a0028fc",
   "metadata": {},
   "outputs": [],
   "source": [
    "def calculate_order_statistics(customer_orders, products):\n",
    "    total_products_ordered = len(customer_orders)\n",
    "    total_in_house = sum(inventory.values())\n",
    "    percentage_ordered = (len(customer_orders) / len(products)) * 100\n",
    "    order_statistics = (total_products_ordered, percentage_ordered)\n",
    "    return total_products_ordered, total_in_house, percentage_ordered, order_statistics\n",
    "\n",
    "total_products_ordered, total_in_house, percentage_ordered, order_statistics = calculate_order_statistics(customer_orders, products)"
   ]
  },
  {
   "cell_type": "code",
   "execution_count": 12,
   "id": "ee06d9ca",
   "metadata": {},
   "outputs": [
    {
     "name": "stdout",
     "output_type": "stream",
     "text": [
      "Error: Invalid price! Please enter a non-negative value.\n",
      "Error: Invalid price! Please enter a non-negative value.\n",
      "\n",
      "        Order Statistics:\n",
      "        Total Products Ordered: 2\n",
      "        Percentage of Products Ordered: 40.0%\n",
      "        Total price of the order: 9\n",
      "        \n"
     ]
    }
   ],
   "source": [
    "def print_order_statistics(order_statistics):\n",
    "    #order_statistics = total_products_ordered, percentage_ordered\n",
    "    print(f\"\"\"\n",
    "        Order Statistics:\n",
    "        Total Products Ordered: {total_products_ordered}\n",
    "        Percentage of Products Ordered: {percentage_ordered}%\n",
    "        Total price of the order: {total_price_order(customer_orders)}\n",
    "        \"\"\")\n",
    "    \n",
    "print_order_statistics(order_statistics)"
   ]
  },
  {
   "cell_type": "code",
   "execution_count": 11,
   "id": "2223bdaa",
   "metadata": {},
   "outputs": [
    {
     "name": "stdout",
     "output_type": "stream",
     "text": [
      "Updated Inventory:\n",
      "['t-shirt : 1', 'mug : 1', 'hat : 2', 'book : 4', 'keychain : 5']\n"
     ]
    }
   ],
   "source": [
    "def print_updated_inventory(inventory: dict):\n",
    "    # print(f\"\"\"Updated Inventory:\n",
    "    #     t-shirt: {inventory['t-shirt']}\n",
    "    #     mug: {inventory['mug']}\n",
    "    #     hat: {inventory['hat']}\n",
    "    #     book: {inventory['book']}\n",
    "    #     keychain: {inventory['keychain']}\n",
    "    #     \"\"\")\n",
    "    print(\"Updated Inventory:\")\n",
    "    print([f\"{product} : {quantity}\" for product, quantity in inventory.items()]) #how to print it????\n",
    "    \n",
    "print_updated_inventory(inventory)"
   ]
  }
 ],
 "metadata": {
  "kernelspec": {
   "display_name": "base",
   "language": "python",
   "name": "python3"
  },
  "language_info": {
   "codemirror_mode": {
    "name": "ipython",
    "version": 3
   },
   "file_extension": ".py",
   "mimetype": "text/x-python",
   "name": "python",
   "nbconvert_exporter": "python",
   "pygments_lexer": "ipython3",
   "version": "3.13.5"
  }
 },
 "nbformat": 4,
 "nbformat_minor": 5
}
